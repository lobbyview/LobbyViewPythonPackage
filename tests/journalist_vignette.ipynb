{
 "cells": [
  {
   "cell_type": "markdown",
   "metadata": {},
   "source": [
    "# LobbyView Package Vignette: Investigative Journalism\n",
    "## Following the Money: A Deep Dive into the Dodd-Frank Act\n",
    "\n",
    "This vignette demonstrates how investigative journalists can use the LobbyView Python package to uncover the story behind major legislation. Using the Dodd-Frank Wall Street Reform and Consumer Protection Act as our case study, we'll show how to:\n",
    "- Track who lobbied for and against major legislation\n",
    "- Identify key players and their connections\n",
    "- Follow lobbying patterns over time\n",
    "- Uncover the networks of influence\n",
    "\n",
    "This type of analysis is valuable for:\n",
    "- Investigative journalists tracking financial legislation\n",
    "- Policy researchers studying corporate influence\n",
    "- Watchdog groups monitoring legislative influence\n",
    "- Anyone interested in transparency in lawmaking"
   ]
  },
  {
   "cell_type": "markdown",
   "metadata": {},
   "source": [
    "## Setup\n",
    "\n",
    "First, we'll configure our environment and connect to the LobbyView API. This gives us access to comprehensive lobbying data that would otherwise require manual collection from multiple government databases. We'll be doing our function calls to retrieve data using our initialized `lobbyview = LobbyView(LOBBYVIEW_TOKEN)` object."
   ]
  },
  {
   "cell_type": "code",
   "execution_count": 1,
   "metadata": {},
   "outputs": [],
   "source": [
    "import os\n",
    "import sys\n",
    "from collections import Counter, defaultdict\n",
    "from dotenv import load_dotenv\n",
    "import matplotlib.pyplot as plt\n",
    "from matplotlib.gridspec import GridSpec\n",
    "sys.path.append('./src/lobbyview/')\n",
    "sys.path.append('../src/lobbyview/')\n",
    "from LobbyView import LobbyView\n",
    "\n",
    "# Load environment variables and set up LobbyView\n",
    "load_dotenv('../../.env')\n",
    "\n",
    "LOBBYVIEW_TOKEN = os.environ.get('LOBBYVIEW_TOKEN', \"NO TOKEN FOUND\")\n",
    "lobbyview = LobbyView(LOBBYVIEW_TOKEN)"
   ]
  },
  {
   "cell_type": "markdown",
   "metadata": {},
   "source": [
    "## Identifying Our Target: The Dodd-Frank Act\n",
    "\n",
    "The first step in our investigation is to locate the specific bill. The Dodd-Frank Wall Street Reform and Consumer Protection Act was introduced as H.R. 4173 in the 111th Congress.\n",
    "\n",
    "The `bills()` method allows us to search by:\n",
    "- Congress number\n",
    "- Bill chamber (\"H\" for House, \"S\" for Senate)\n",
    "- Bill number\n",
    "- Bill status\n",
    "- Date ranges\n",
    "\n",
    "This flexibility helps journalists quickly locate any piece of legislation they're investigating."
   ]
  },
  {
   "cell_type": "code",
   "execution_count": 2,
   "metadata": {},
   "outputs": [
    {
     "name": "stdout",
     "output_type": "stream",
     "text": [
      "Bill Information: 4173 - ENACTED:SIGNED\n"
     ]
    }
   ],
   "source": [
    "# Investigate the Dodd-Frank Wall Street Reform and Consumer Protection Act\n",
    "# This bill was introduced in the 111th Congress as H.R. 4173\n",
    "\n",
    "# 1. Get bill information\n",
    "bill_info = lobbyview.bills(congress_number=111, bill_chamber=\"H\", bill_number=4173)\n",
    "bill_data = bill_info.data[0]\n",
    "print(f\"Bill Information: {bill_data['bill_number']} - {bill_data['bill_state']}\")"
   ]
  },
  {
   "cell_type": "markdown",
   "metadata": {},
   "source": [
    "## Following the Money: Who's Behind the Bill?\n",
    "\n",
    "Every bill has a sponsor - a legislator who introduced it. Understanding who sponsored the bill and their connections is crucial for any investigation.\n",
    "\n",
    "The `legislators()` method provides:\n",
    "- Biographical information\n",
    "- Historical data\n",
    "- Unique identifiers that help us track connections\n",
    "- Related legislative activity"
   ]
  },
  {
   "cell_type": "code",
   "execution_count": 3,
   "metadata": {},
   "outputs": [
    {
     "name": "stdout",
     "output_type": "stream",
     "text": [
      "\n",
      "Bill Sponsor: Barney Frank\n"
     ]
    }
   ],
   "source": [
    "# 2. Get sponsor information\n",
    "sponsor_info = lobbyview.legislators(legislator_id=bill_data['legislator_id'])\n",
    "sponsor_data = sponsor_info.data[0]\n",
    "print(f\"\\nBill Sponsor: {sponsor_data['legislator_full_name']}\")"
   ]
  },
  {
   "cell_type": "markdown",
   "metadata": {},
   "source": [
    "## Uncovering the Lobbying Network\n",
    "\n",
    "Now we get to the heart of our investigation: who lobbied on this bill? The `bill_client_networks()` method reveals the connections between bills and lobbying clients.\n",
    "\n",
    "This data helps answer crucial questions:\n",
    "- Which organizations lobbied on this bill?\n",
    "- How intensively did they lobby?\n",
    "- What positions did they take?\n",
    "- How did their lobbying evolve over time?"
   ]
  },
  {
   "cell_type": "code",
   "execution_count": 4,
   "metadata": {},
   "outputs": [],
   "source": [
    "# 3. Get lobbying data\n",
    "bill_client_networks = lobbyview.bill_client_networks(congress_number=111, bill_chamber=\"H\", bill_number=4173)"
   ]
  },
  {
   "cell_type": "markdown",
   "metadata": {},
   "source": [
    "## Who Were the Major Players?\n",
    "\n",
    "We'll identify the most active lobbying clients and get detailed information about each one. This helps us understand which organizations had the biggest stake in the legislation.\n",
    "\n",
    "The `clients()` method helps us:\n",
    "- Convert client IDs to readable names\n",
    "- Get industry information\n",
    "- Understand the scale of lobbying efforts\n",
    "- Identify patterns in corporate influence"
   ]
  },
  {
   "cell_type": "code",
   "execution_count": 5,
   "metadata": {},
   "outputs": [],
   "source": [
    "# 4. Analyze top lobbying clients\n",
    "client_lobby_count = Counter(network['client_uuid'] for network in bill_client_networks)\n",
    "top_clients = client_lobby_count.most_common(10)\n",
    "\n",
    "client_names = {}\n",
    "for client_uuid, _ in top_clients:\n",
    "    client_info = lobbyview.clients(client_uuid=client_uuid)\n",
    "    client_names[client_uuid] = client_info.data[0]['client_name']"
   ]
  },
  {
   "cell_type": "markdown",
   "metadata": {},
   "source": [
    "## Following the Timeline\n",
    "\n",
    "When did lobbying activity peak? Was there a surge before key votes? The timing of lobbying activities can reveal crucial parts of the story.\n",
    "\n",
    "We'll analyze:\n",
    "- Quarterly lobbying patterns\n",
    "- Intensity of lobbying over time\n",
    "- Critical periods of activity\n",
    "- Relationship between lobbying and legislative events"
   ]
  },
  {
   "cell_type": "code",
   "execution_count": 6,
   "metadata": {},
   "outputs": [],
   "source": [
    "# 5. Analyze lobbying intensity over time\n",
    "lobbying_timeline = defaultdict(int)\n",
    "for network in bill_client_networks:\n",
    "    report = lobbyview.reports(report_uuid=network['report_uuid']).data[0]\n",
    "    year = report['report_year']\n",
    "    quarter = report['report_quarter_code']\n",
    "    lobbying_timeline[f\"{year} Q{quarter}\"] += 1"
   ]
  },
  {
   "cell_type": "markdown",
   "metadata": {},
   "source": [
    "## What Were They Lobbying About?\n",
    "\n",
    "The `issues()` method helps us understand the specific aspects of the bill that attracted attention. This can reveal:\n",
    "- Main points of contention\n",
    "- Industry concerns\n",
    "- Regulatory focus areas\n",
    "- Target agencies and committees"
   ]
  },
  {
   "cell_type": "code",
   "execution_count": 7,
   "metadata": {},
   "outputs": [],
   "source": [
    "# 6. Analyze issues and government entities\n",
    "all_issues = []\n",
    "for network in bill_client_networks:\n",
    "    issues = lobbyview.issues(report_uuid=network['report_uuid'])\n",
    "    all_issues.extend(issues.data)\n",
    "issue_codes = Counter(issue['issue_code'] for issue in all_issues)\n",
    "gov_entities = []\n",
    "for issue in all_issues:\n",
    "    if issue['gov_entity']:\n",
    "        for entity in issue['gov_entity']:\n",
    "            if entity:\n",
    "                gov_entities.append(entity)\n",
    "\n",
    "gov_entities = Counter(gov_entities)"
   ]
  },
  {
   "cell_type": "markdown",
   "metadata": {},
   "source": [
    "## Connecting the Dots: Legislative Networks\n",
    "\n",
    "For the most active lobbying clients, we'll examine their broader legislative connections. The `networks()` method reveals:\n",
    "- Key legislative relationships\n",
    "- Patterns of influence\n",
    "- Strategic lobbying approaches\n",
    "- Long-term political relationships"
   ]
  },
  {
   "cell_type": "code",
   "execution_count": 8,
   "metadata": {},
   "outputs": [],
   "source": [
    "# 7. Analyze network connections\n",
    "legislator_connections = defaultdict(int)\n",
    "for network in lobbyview.networks(client_uuid=top_clients[0][0]):\n",
    "    legislator_connections[network['legislator_id']] += network['n_bills_sponsored']\n",
    "\n",
    "top_legislators = sorted(legislator_connections.items(), key=lambda x: x[1], reverse=True)[:5]\n",
    "legislator_names = {}\n",
    "for leg_id, _ in top_legislators:\n",
    "    leg_info = lobbyview.legislators(legislator_id=leg_id)\n",
    "    legislator_names[leg_id] = leg_info.data[0]['legislator_full_name']"
   ]
  },
  {
   "cell_type": "markdown",
   "metadata": {},
   "source": [
    "## Visualizing the Story\n",
    "\n",
    "Data visualization helps us communicate complex lobbying patterns to readers. We'll create a comprehensive set of visualizations that show:\n",
    "- Lobbying intensity over time\n",
    "- Top players and their activities\n",
    "- Key issues and focus areas\n",
    "- Government entities targeted\n",
    "- Legislative connections"
   ]
  },
  {
   "cell_type": "code",
   "execution_count": 9,
   "metadata": {},
   "outputs": [],
   "source": [
    "# Create comprehensive visualization\n",
    "plt.figure(figsize=(20, 20))\n",
    "gs = GridSpec(3, 2, figure=plt.gcf())\n",
    "\n",
    "# 1. Lobbying Intensity Over Time\n",
    "ax1 = plt.subplot(gs[0, :])\n",
    "sorted_timeline = dict(sorted(lobbying_timeline.items()))\n",
    "ax1.bar(sorted_timeline.keys(), sorted_timeline.values())\n",
    "ax1.set_title(\"Lobbying Intensity Over Time\")\n",
    "ax1.set_xlabel(\"Year and Quarter\")\n",
    "ax1.set_ylabel(\"Number of Lobbying Activities\")\n",
    "plt.setp(ax1.xaxis.get_majorticklabels(), rotation=45, ha=\"right\")\n",
    "\n",
    "# 2. Top Lobbying Clients\n",
    "ax2 = plt.subplot(gs[1, 0])\n",
    "client_names_list = [client_names[uuid] for uuid, _ in top_clients]\n",
    "client_counts = [count for _, count in top_clients]\n",
    "ax2.barh(client_names_list, client_counts)\n",
    "ax2.set_title(\"Top 10 Lobbying Clients\")\n",
    "ax2.set_xlabel(\"Number of Lobbying Activities\")\n",
    "ax2.set_ylabel(\"Client Name\")\n",
    "\n",
    "# 3. Top Issues Lobbied\n",
    "ax3 = plt.subplot(gs[1, 1])\n",
    "top_issues = issue_codes.most_common(10)\n",
    "ax3.pie([count for _, count in top_issues], labels=[issue for issue, _ in top_issues], autopct='%1.1f%%')\n",
    "ax3.set_title(\"Top 10 Issues Lobbied\")\n",
    "\n",
    "# 4. Top Government Entities Lobbied\n",
    "ax4 = plt.subplot(gs[2, 0])\n",
    "top_entities = gov_entities.most_common(5)\n",
    "ax4.bar([entity for entity, _ in top_entities], [count for _, count in top_entities])\n",
    "ax4.set_title(\"Top 5 Government Entities Lobbied\")\n",
    "ax4.set_ylabel(\"Number of Lobbying Activities\")\n",
    "plt.setp(ax4.xaxis.get_majorticklabels(), rotation=45, ha=\"right\")\n",
    "\n",
    "# 5. Top Legislator Connections for Main Lobbying Client\n",
    "ax5 = plt.subplot(gs[2, 1])\n",
    "ax5.bar([legislator_names[leg_id] for leg_id, _ in top_legislators],\n",
    "        [count for _, count in top_legislators])\n",
    "ax5.set_title(f\"Top 5 Legislator Connections for {client_names[top_clients[0][0]]}\")\n",
    "ax5.set_ylabel(\"Number of Bills Sponsored\")\n",
    "plt.setp(ax5.xaxis.get_majorticklabels(), rotation=45, ha=\"right\")\n",
    "\n",
    "plt.tight_layout()\n",
    "plt.savefig(\"dodd_frank_lobbying_analysis.png\")\n",
    "plt.close()\n"
   ]
  },
  {
   "cell_type": "markdown",
   "metadata": {},
   "source": [
    "## Putting It All Together: Key Findings\n",
    "\n",
    "Finally, we'll summarize the key findings that could form the basis of an investigative piece. This brings together all aspects of our analysis to tell a compelling story about influence and legislation."
   ]
  },
  {
   "cell_type": "code",
   "execution_count": 10,
   "metadata": {},
   "outputs": [
    {
     "name": "stdout",
     "output_type": "stream",
     "text": [
      "\n",
      "A comprehensive analysis of lobbying activity has been saved as 'dodd_frank_lobbying_analysis.png'\n",
      "\n",
      "Key Findings for Investigative Piece:\n",
      "1. The Dodd-Frank Act (H.R. 4173) was sponsored by Barney Frank.\n",
      "2. The bill's current state is: ENACTED:SIGNED\n",
      "3. The most active lobbying client was AEGON USA, INC., with 12 lobbying activities.\n",
      "4. Lobbying activity peaked in 2010 Q1, with 15 activities.\n",
      "5. The most lobbied issue was 'FIN', accounting for 70 activities.\n",
      "6. The government entity most frequently lobbied was HOUSE OF REPRESENTATIVES, targeted 432 times.\n",
      "7. For the top lobbying client, the legislator most frequently connected to sponsored bills was Susan M. Collins, with 82 bills.\n"
     ]
    }
   ],
   "source": [
    "print(\"\\nA comprehensive analysis of lobbying activity has been saved as 'dodd_frank_lobbying_analysis.png'\")\n",
    "\n",
    "# Journalist's Key Findings\n",
    "print(\"\\nKey Findings for Investigative Piece:\")\n",
    "print(f\"1. The Dodd-Frank Act (H.R. 4173) was sponsored by {sponsor_data['legislator_full_name']}.\")\n",
    "print(f\"2. The bill's current state is: {bill_data['bill_state']}\")\n",
    "print(f\"3. The most active lobbying client was {client_names[top_clients[0][0]]}, with {top_clients[0][1]} lobbying activities.\")\n",
    "print(f\"4. Lobbying activity peaked in {max(lobbying_timeline, key=lobbying_timeline.get)}, with {max(lobbying_timeline.values())} activities.\")\n",
    "print(f\"5. The most lobbied issue was '{top_issues[0][0]}', accounting for {top_issues[0][1]} activities.\")\n",
    "print(f\"6. The government entity most frequently lobbied was {top_entities[0][0]}, targeted {top_entities[0][1]} times.\")\n",
    "print(f\"7. For the top lobbying client, the legislator most frequently connected to sponsored bills was {legislator_names[top_legislators[0][0]]}, with {top_legislators[0][1]} bills.\")"
   ]
  },
  {
   "cell_type": "code",
   "execution_count": null,
   "metadata": {},
   "outputs": [],
   "source": []
  }
 ],
 "metadata": {
  "kernelspec": {
   "display_name": ".venv",
   "language": "python",
   "name": "python3"
  },
  "language_info": {
   "codemirror_mode": {
    "name": "ipython",
    "version": 3
   },
   "file_extension": ".py",
   "mimetype": "text/x-python",
   "name": "python",
   "nbconvert_exporter": "python",
   "pygments_lexer": "ipython3",
   "version": "3.11.10"
  }
 },
 "nbformat": 4,
 "nbformat_minor": 2
}
