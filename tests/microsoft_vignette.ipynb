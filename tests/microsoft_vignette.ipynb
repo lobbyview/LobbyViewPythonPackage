{
 "cells": [
  {
   "cell_type": "markdown",
   "metadata": {},
   "source": [
    "# LobbyView Package Vignette: Corporate Strategy Analysis\n",
    "## A Case Study of Microsoft's Lobbying Landscape\n",
    "\n",
    "This vignette demonstrates how to use the LobbyView Python package to analyze corporate lobbying activities through the lens of Microsoft Corporation. We'll explore how a company might evaluate its past lobbying efforts, identify key relationships with legislators, and understand where resources have been allocated.\n",
    "\n",
    "The analysis will help answer questions like:\n",
    "- Which issues have received the most lobbying attention?\n",
    "- Who are our key legislative contacts?\n",
    "- How has our lobbying activity changed over time?\n",
    "- What recent bills are relevant to our interests?\n",
    "\n",
    "This type of analysis would be valuable for:\n",
    "- Corporate government relations teams planning future strategy\n",
    "- Compliance officers reviewing lobbying activities\n",
    "- Executives making decisions about resource allocation\n",
    "- Researchers studying corporate political activity"
   ]
  },
  {
   "cell_type": "markdown",
   "metadata": {},
   "source": [
    "## Setup and Configuration\n",
    "\n",
    "First, we'll set up our environment and import the necessary packages. The LobbyView package requires an API token which should be stored in a `.env` file for security. We'll be doing our function calls to retrieve data using our initialized `lobbyview = LobbyView(LOBBYVIEW_TOKEN)` object."
   ]
  },
  {
   "cell_type": "code",
   "execution_count": 1,
   "metadata": {},
   "outputs": [],
   "source": [
    "import os\n",
    "import sys\n",
    "from collections import Counter\n",
    "import matplotlib.pyplot as plt\n",
    "from matplotlib.gridspec import GridSpec\n",
    "from dotenv import load_dotenv\n",
    "sys.path.append('./src/lobbyview/')\n",
    "sys.path.append('../src/lobbyview/')\n",
    "from LobbyView import LobbyView\n",
    "from exceptions import InvalidPageNumberError\n",
    "\n",
    "# Load environment variables and set up LobbyView\n",
    "load_dotenv('../../.env')\n",
    "\n",
    "LOBBYVIEW_TOKEN = os.environ.get('LOBBYVIEW_TOKEN', \"NO TOKEN FOUND\")\n",
    "lobbyview = LobbyView(LOBBYVIEW_TOKEN)"
   ]
  },
  {
   "cell_type": "code",
   "execution_count": 2,
   "metadata": {},
   "outputs": [],
   "source": [
    "def get_legislator_name(legislator_id):\n",
    "    \"\"\"\n",
    "    Get the full name of a legislator given their ID.\n",
    "\n",
    "    Args:\n",
    "        legislator_id (str): The unique ID of the legislator.\n",
    "\n",
    "    Returns:\n",
    "        str: The full name of the legislator if found, otherwise the ID.\n",
    "    \"\"\"\n",
    "    legislator_info = lobbyview.legislators(legislator_id=legislator_id)\n",
    "    if legislator_info.data:\n",
    "        return legislator_info.data[0]['legislator_full_name']\n",
    "    return legislator_id  # Return ID if name not found"
   ]
  },
  {
   "cell_type": "markdown",
   "metadata": {},
   "source": [
    "## Starting the Analysis: Client Identification\n",
    "\n",
    "The first step in any lobbying analysis is identifying the client (company) of interest. The LobbyView API uses a UUID system for unique identification, so we need to convert from a human-readable company name to its corresponding UUID.\n",
    "\n",
    "The `clients()` method supports:\n",
    "- Exact UUID lookup\n",
    "- Partial name matching\n",
    "- NAICS code filtering\n",
    "- Industry description search\n",
    "\n",
    "In this case, we'll search for Microsoft Corporation by name."
   ]
  },
  {
   "cell_type": "code",
   "execution_count": 3,
   "metadata": {},
   "outputs": [],
   "source": [
    "CLIENT_NAME = \"Microsoft Corporation\"\n",
    "client_info = lobbyview.clients(client_name=CLIENT_NAME)\n",
    "\n",
    "if not client_info.data:\n",
    "    print(f\"No data found for {CLIENT_NAME}\")\n",
    "    sys.exit(1)"
   ]
  },
  {
   "cell_type": "code",
   "execution_count": 4,
   "metadata": {},
   "outputs": [
    {
     "name": "stdout",
     "output_type": "stream",
     "text": [
      "Analyzing lobbying activities for Microsoft Corporation\n"
     ]
    }
   ],
   "source": [
    "# We need to convert from the human-readable company name to its UUID for subsequent queries.\n",
    "client_uuid = client_info.data[0]['client_uuid']\n",
    "print(f\"Analyzing lobbying activities for {CLIENT_NAME}\")"
   ]
  },
  {
   "cell_type": "markdown",
   "metadata": {},
   "source": [
    "## Report Analysis\n",
    "\n",
    "With our client identified, we can now examine their lobbying reports. These reports provide the foundation for understanding a company's lobbying activities.\n",
    "\n",
    "The `reports()` method gives us access to:\n",
    "- Filing dates and quarters\n",
    "- Amount spent on lobbying\n",
    "- Whether it's an amendment or original filing\n",
    "- Self-filing status\n",
    "\n",
    "We'll analyze the temporal distribution of these reports to understand how Microsoft's lobbying activity has evolved."
   ]
  },
  {
   "cell_type": "code",
   "execution_count": 5,
   "metadata": {},
   "outputs": [
    {
     "name": "stdout",
     "output_type": "stream",
     "text": [
      "Number of reports found: 100\n"
     ]
    }
   ],
   "source": [
    "# Get reports for this client\n",
    "client_reports = lobbyview.reports(client_uuid=client_uuid)\n",
    "print(f\"Number of reports found: {len(client_reports.data)}\")"
   ]
  },
  {
   "cell_type": "code",
   "execution_count": 6,
   "metadata": {},
   "outputs": [
    {
     "name": "stdout",
     "output_type": "stream",
     "text": [
      "\n",
      "Reports by year:\n",
      "  2019: 50\n",
      "  2010: 29\n",
      "  2018: 21\n",
      "\n",
      "Reports by quarter:\n",
      "  Q3: 27\n",
      "  Q1: 25\n",
      "  Q2: 25\n",
      "  Q4: 23\n"
     ]
    }
   ],
   "source": [
    "# Analyze report years and quarters\n",
    "report_years = Counter()\n",
    "report_quarters = Counter()\n",
    "for report in client_reports.data:\n",
    "    report_years[report['report_year']] += 1\n",
    "    report_quarters[report['report_quarter_code']] += 1\n",
    "\n",
    "print(\"\\nReports by year:\")\n",
    "for year, count in report_years.most_common():\n",
    "    print(f\"  {year}: {count}\")\n",
    "\n",
    "print(\"\\nReports by quarter:\")\n",
    "for quarter, count in report_quarters.most_common():\n",
    "    print(f\"  Q{quarter}: {count}\")"
   ]
  },
  {
   "cell_type": "markdown",
   "metadata": {},
   "source": [
    "## Issue Analysis\n",
    "\n",
    "Understanding which issues a company lobbies on is crucial for evaluating their political priorities and resource allocation. The LobbyView API provides detailed issue coding and descriptions.\n",
    "\n",
    "The `issues()` and `texts()` methods allow us to:\n",
    "- See what specific issues were lobbied on\n",
    "- Read detailed descriptions of the lobbying activities\n",
    "- Track issue frequency over time\n",
    "- Identify patterns in issue focus\n",
    "\n",
    "This can help companies:\n",
    "- Review if lobbying efforts match strategic priorities\n",
    "- Identify gaps in coverage\n",
    "- Compare against competitor focus areas"
   ]
  },
  {
   "cell_type": "code",
   "execution_count": 7,
   "metadata": {},
   "outputs": [
    {
     "name": "stdout",
     "output_type": "stream",
     "text": [
      "\n",
      "Analyzing Microsoft's lobbying issues...\n"
     ]
    },
    {
     "name": "stderr",
     "output_type": "stream",
     "text": [
      "2024-10-24 15:29:20,375 - ERROR - No matching data available, total pages: 0\n",
      "2024-10-24 15:29:20,634 - ERROR - No matching data available, total pages: 0\n",
      "2024-10-24 15:29:23,081 - ERROR - No matching data available, total pages: 0\n",
      "2024-10-24 15:29:25,591 - ERROR - No matching data available, total pages: 0\n",
      "2024-10-24 15:29:25,731 - ERROR - No matching data available, total pages: 0\n",
      "2024-10-24 15:29:26,731 - ERROR - No matching data available, total pages: 0\n",
      "2024-10-24 15:29:27,338 - ERROR - No matching data available, total pages: 0\n",
      "2024-10-24 15:29:27,463 - ERROR - No matching data available, total pages: 0\n",
      "2024-10-24 15:29:29,399 - ERROR - No matching data available, total pages: 0\n",
      "2024-10-24 15:29:29,884 - ERROR - No matching data available, total pages: 0\n",
      "2024-10-24 15:29:30,133 - ERROR - No matching data available, total pages: 0\n"
     ]
    }
   ],
   "source": [
    "print(\"\\nAnalyzing Microsoft's lobbying issues...\")\n",
    "\n",
    "# Get all issues from Microsoft's reports\n",
    "all_issues = []\n",
    "for report in client_reports.data:\n",
    "    try:\n",
    "        # use .issues() to get the issues for a report\n",
    "        issues = lobbyview.issues(report_uuid=report['report_uuid'])\n",
    "        all_issues.extend(issues.data)\n",
    "    except InvalidPageNumberError:\n",
    "        # Skip reports with no issues\n",
    "        continue"
   ]
  },
  {
   "cell_type": "code",
   "execution_count": 8,
   "metadata": {},
   "outputs": [
    {
     "name": "stdout",
     "output_type": "stream",
     "text": [
      "\n",
      "Top issues by frequency:\n",
      "  TAX: 45 occurrences\n",
      "    Sample issue text: Tax extenders...\n",
      "  TEC: 42 occurrences\n",
      "    Sample issue text: telecommuications reform; online advertising; white spaces; online competitiveness, privacy...\n",
      "  IMM: 41 occurrences\n",
      "    Sample issue text: immigration issues...\n",
      "  CPI: 31 occurrences\n",
      "    Sample issue text: Competition in the online advertising and software markets, Privacy issues, Cloud computing, China...\n",
      "  TRD: 19 occurrences\n",
      "    Sample issue text: International trade issues....\n",
      "  CPT: 16 occurrences\n",
      "    Sample issue text: patent legislation...\n",
      "  HOM: 15 occurrences\n",
      "    Sample issue text: Cyber security; state fusion centers; voluntary private sector preparedness standards;  The Protecti...\n",
      "  BUD: 14 occurrences\n",
      "    Sample issue text: Information technology spending / cloud computing...\n",
      "  INT: 12 occurrences\n",
      "    Sample issue text: Warrants and surveillance, ECPA, Cyber Security...\n",
      "  SCI: 11 occurrences\n",
      "    Sample issue text: science and technology issues\n",
      "cloud computing...\n"
     ]
    }
   ],
   "source": [
    "if not all_issues:\n",
    "    print(\"No lobbying issues found for Microsoft\")\n",
    "else:\n",
    "    # Count frequency of issue codes\n",
    "    issue_codes = Counter()\n",
    "    for issue in all_issues:\n",
    "        issue_codes[issue['issue_code']] += 1\n",
    "        \n",
    "    # Create a dictionary to store issue text descriptions\n",
    "    issue_text_cache = {}\n",
    "\n",
    "    print(\"\\nTop issues by frequency:\")\n",
    "    for code, count in issue_codes.most_common(10):\n",
    "        if code not in issue_text_cache:\n",
    "            try:\n",
    "                # Try multiple report UUIDs until we find one with text\n",
    "                for issue in all_issues:\n",
    "                    if issue['issue_code'] == code:\n",
    "                        # use .texts() to get the issue text\n",
    "                        sample_text = lobbyview.texts(issue_code=code, report_uuid=issue['report_uuid'])\n",
    "                        if sample_text.data:\n",
    "                            issue_text_cache[code] = sample_text.data[0]['issue_text']\n",
    "                            break\n",
    "                if code not in issue_text_cache:\n",
    "                    issue_text_cache[code] = \"No description available\"\n",
    "            except (InvalidPageNumberError, IndexError):\n",
    "                issue_text_cache[code] = \"No description available\"\n",
    "        \n",
    "        print(f\"  {code}: {count} occurrences\")\n",
    "        print(f\"    Sample issue text: {issue_text_cache[code][:100]}...\")  # Show first 100 chars"
   ]
  },
  {
   "cell_type": "markdown",
   "metadata": {},
   "source": [
    "## Legislative Network Analysis\n",
    "\n",
    "A critical aspect of lobbying is maintaining relationships with legislators. The `networks()` method helps us understand these connections.\n",
    "\n",
    "We can analyze:\n",
    "- Which legislators are most frequently connected to the company\n",
    "- How many bills these legislators have sponsored\n",
    "- The strength of various legislative relationships\n",
    "- Changes in network patterns over time"
   ]
  },
  {
   "cell_type": "code",
   "execution_count": 9,
   "metadata": {},
   "outputs": [
    {
     "name": "stdout",
     "output_type": "stream",
     "text": [
      "\n",
      "Number of network connections: 100\n",
      "\n",
      "Top 5 legislators by bills sponsored:\n",
      "  Kevin Brady: 81\n",
      "  Max Baucus: 62\n",
      "  John Conyers, Jr.: 38\n",
      "  None: 32\n",
      "  Richard Burr: 29\n"
     ]
    }
   ],
   "source": [
    "# Analyze network data\n",
    "network_data = lobbyview.networks(client_uuid=client_uuid)\n",
    "print(f\"\\nNumber of network connections: {len(network_data.data)}\")\n",
    "\n",
    "legislator_counter = Counter()\n",
    "for network in network_data.data:\n",
    "    legislator_counter[network['legislator_id']] += network['n_bills_sponsored']\n",
    "\n",
    "print(\"\\nTop 5 legislators by bills sponsored:\")\n",
    "for legislator_id, count in legislator_counter.most_common(5):\n",
    "    legislator_name = get_legislator_name(legislator_id)\n",
    "    print(f\"  {legislator_name}: {count}\")"
   ]
  },
  {
   "cell_type": "markdown",
   "metadata": {},
   "source": [
    "## Recent Legislative Activity\n",
    "\n",
    "Understanding recent legislative activity helps companies stay current and evaluate the effectiveness of their lobbying efforts. We'll focus on bills since 2020 that are connected to Microsoft's network.\n",
    "\n",
    "The `bills()` method provides:\n",
    "- Bill status and progress\n",
    "- Sponsorship information\n",
    "- Introduction and update dates\n",
    "- Connection to specific issues"
   ]
  },
  {
   "cell_type": "code",
   "execution_count": 10,
   "metadata": {},
   "outputs": [
    {
     "name": "stderr",
     "output_type": "stream",
     "text": [
      "2024-10-24 15:32:02,773 - ERROR - No matching data available, total pages: 0\n",
      "2024-10-24 15:32:03,313 - ERROR - No matching data available, total pages: 0\n",
      "2024-10-24 15:32:03,457 - ERROR - No matching data available, total pages: 0\n",
      "2024-10-24 15:32:03,600 - ERROR - No matching data available, total pages: 0\n",
      "2024-10-24 15:32:03,754 - ERROR - No matching data available, total pages: 0\n",
      "2024-10-24 15:32:03,903 - ERROR - No matching data available, total pages: 0\n",
      "2024-10-24 15:32:04,052 - ERROR - No matching data available, total pages: 0\n",
      "2024-10-24 15:32:04,168 - ERROR - No matching data available, total pages: 0\n",
      "2024-10-24 15:32:04,289 - ERROR - No matching data available, total pages: 0\n",
      "2024-10-24 15:32:04,411 - ERROR - No matching data available, total pages: 0\n",
      "2024-10-24 15:32:04,541 - ERROR - No matching data available, total pages: 0\n",
      "2024-10-24 15:32:04,665 - ERROR - No matching data available, total pages: 0\n",
      "2024-10-24 15:32:04,778 - ERROR - No matching data available, total pages: 0\n",
      "2024-10-24 15:32:04,906 - ERROR - No matching data available, total pages: 0\n",
      "2024-10-24 15:32:05,694 - ERROR - No matching data available, total pages: 0\n",
      "2024-10-24 15:32:05,819 - ERROR - No matching data available, total pages: 0\n",
      "2024-10-24 15:32:05,956 - ERROR - No matching data available, total pages: 0\n",
      "2024-10-24 15:32:06,094 - ERROR - No matching data available, total pages: 0\n",
      "2024-10-24 15:32:06,210 - ERROR - No matching data available, total pages: 0\n",
      "2024-10-24 15:32:06,325 - ERROR - No matching data available, total pages: 0\n",
      "2024-10-24 15:32:07,747 - ERROR - No matching data available, total pages: 0\n",
      "2024-10-24 15:32:08,203 - ERROR - No matching data available, total pages: 0\n",
      "2024-10-24 15:32:08,332 - ERROR - No matching data available, total pages: 0\n",
      "2024-10-24 15:32:08,458 - ERROR - No matching data available, total pages: 0\n",
      "2024-10-24 15:32:08,580 - ERROR - No matching data available, total pages: 0\n",
      "2024-10-24 15:32:08,714 - ERROR - No matching data available, total pages: 0\n",
      "2024-10-24 15:32:08,854 - ERROR - No matching data available, total pages: 0\n",
      "2024-10-24 15:32:08,990 - ERROR - No matching data available, total pages: 0\n",
      "2024-10-24 15:32:09,136 - ERROR - No matching data available, total pages: 0\n",
      "2024-10-24 15:32:10,086 - ERROR - No matching data available, total pages: 0\n",
      "2024-10-24 15:32:10,206 - ERROR - No matching data available, total pages: 0\n",
      "2024-10-24 15:32:10,590 - ERROR - No matching data available, total pages: 0\n",
      "2024-10-24 15:32:10,715 - ERROR - No matching data available, total pages: 0\n",
      "2024-10-24 15:32:10,845 - ERROR - No matching data available, total pages: 0\n",
      "2024-10-24 15:32:10,962 - ERROR - No matching data available, total pages: 0\n",
      "2024-10-24 15:32:11,108 - ERROR - No matching data available, total pages: 0\n",
      "2024-10-24 15:32:11,237 - ERROR - No matching data available, total pages: 0\n",
      "2024-10-24 15:32:11,358 - ERROR - No matching data available, total pages: 0\n",
      "2024-10-24 15:32:11,519 - ERROR - No matching data available, total pages: 0\n",
      "2024-10-24 15:32:11,680 - ERROR - No matching data available, total pages: 0\n",
      "2024-10-24 15:32:13,065 - ERROR - No matching data available, total pages: 0\n",
      "2024-10-24 15:32:13,201 - ERROR - No matching data available, total pages: 0\n",
      "2024-10-24 15:32:13,334 - ERROR - No matching data available, total pages: 0\n",
      "2024-10-24 15:32:13,464 - ERROR - No matching data available, total pages: 0\n",
      "2024-10-24 15:32:13,602 - ERROR - No matching data available, total pages: 0\n",
      "2024-10-24 15:32:13,740 - ERROR - No matching data available, total pages: 0\n",
      "2024-10-24 15:32:13,858 - ERROR - No matching data available, total pages: 0\n",
      "2024-10-24 15:32:13,984 - ERROR - No matching data available, total pages: 0\n",
      "2024-10-24 15:32:14,108 - ERROR - No matching data available, total pages: 0\n",
      "2024-10-24 15:32:14,228 - ERROR - No matching data available, total pages: 0\n",
      "2024-10-24 15:32:14,346 - ERROR - No matching data available, total pages: 0\n",
      "2024-10-24 15:32:14,466 - ERROR - No matching data available, total pages: 0\n",
      "2024-10-24 15:32:14,581 - ERROR - No matching data available, total pages: 0\n",
      "2024-10-24 15:32:14,946 - ERROR - No matching data available, total pages: 0\n"
     ]
    },
    {
     "name": "stdout",
     "output_type": "stream",
     "text": [
      "\n",
      "Number of Microsoft-connected bills introduced since 2020: 311\n"
     ]
    }
   ],
   "source": [
    "# Analyze recent Microsoft-connected bills\n",
    "recent_ms_bills = []\n",
    "for network in network_data.data:\n",
    "    try:\n",
    "        # Get bills sponsored by legislators connected to Microsoft since 2020\n",
    "        legislator_bills = lobbyview.bills(\n",
    "            legislator_id=network['legislator_id'],\n",
    "            min_introduced_date=\"2020-01-01\"\n",
    "        )\n",
    "        recent_ms_bills.extend(legislator_bills.data)\n",
    "    except InvalidPageNumberError:\n",
    "        # Skip legislators with no recent bills\n",
    "        continue\n",
    "\n",
    "print(f\"\\nNumber of Microsoft-connected bills introduced since 2020: {len(recent_ms_bills)}\")"
   ]
  },
  {
   "cell_type": "code",
   "execution_count": 11,
   "metadata": {},
   "outputs": [
    {
     "name": "stdout",
     "output_type": "stream",
     "text": [
      "\n",
      "Top 5 Microsoft-connected bill sponsors since 2020:\n",
      "  John Cornyn: 105\n",
      "  Roy Blunt: 40\n",
      "  Marsha Blackburn: 32\n",
      "  Thomas R. Carper: 25\n",
      "  Sherrod Brown: 20\n"
     ]
    }
   ],
   "source": [
    "bill_sponsors = Counter()\n",
    "for bill in recent_ms_bills:\n",
    "    bill_sponsors[bill['legislator_id']] += 1\n",
    "\n",
    "print(\"\\nTop 5 Microsoft-connected bill sponsors since 2020:\")\n",
    "for legislator_id, count in bill_sponsors.most_common(5):\n",
    "    legislator_name = get_legislator_name(legislator_id)\n",
    "    print(f\"  {legislator_name}: {count}\")"
   ]
  },
  {
   "cell_type": "markdown",
   "metadata": {},
   "source": [
    "## Data Visualization\n",
    "\n",
    "To make our analysis more accessible to stakeholders, we'll create visualizations of key metrics. These visualizations will help communicate:\n",
    "- Temporal patterns in lobbying activity\n",
    "- Key legislative relationships\n",
    "- Issue focus areas\n",
    "- Recent legislative activity"
   ]
  },
  {
   "cell_type": "code",
   "execution_count": 20,
   "metadata": {},
   "outputs": [
    {
     "name": "stdout",
     "output_type": "stream",
     "text": [
      "Warning: No name found for legislator ID B000657\n",
      "\n",
      "A comprehensive analysis of Microsoft's lobbying activities has been saved as 'microsoft_lobbying_analysis.png'\n"
     ]
    }
   ],
   "source": [
    "# Create visualization\n",
    "plt.figure(figsize=(20, 20))\n",
    "gs = GridSpec(3, 2, figure=plt.gcf())\n",
    "\n",
    "# 1. Reports by Year\n",
    "ax1 = plt.subplot(gs[0, 0])\n",
    "years, counts = zip(*sorted(report_years.items()))\n",
    "ax1.bar(years, counts)\n",
    "ax1.set_title(f\"Lobbying Reports by Year for {CLIENT_NAME}\")\n",
    "ax1.set_xlabel(\"Year\")\n",
    "ax1.set_ylabel(\"Number of Reports\")\n",
    "\n",
    "# 2. Reports by Quarter\n",
    "ax2 = plt.subplot(gs[0, 1])\n",
    "quarters, counts = zip(*sorted(report_quarters.items()))\n",
    "ax2.bar(quarters, counts)\n",
    "ax2.set_title(f\"Lobbying Reports by Quarter for {CLIENT_NAME}\")\n",
    "ax2.set_xlabel(\"Quarter\")\n",
    "ax2.set_ylabel(\"Number of Reports\")\n",
    "\n",
    "# 3. Top Legislators by Bills Sponsored\n",
    "ax3 = plt.subplot(gs[1, 0])\n",
    "top_legislators = dict(legislator_counter.most_common(10))\n",
    "legislator_names = []\n",
    "legislator_values = []\n",
    "for leg_id, value in top_legislators.items():\n",
    "    name = get_legislator_name(leg_id)\n",
    "    if name:\n",
    "        legislator_names.append(name)\n",
    "        legislator_values.append(value)\n",
    "    else:\n",
    "        print(f\"Warning: No name found for legislator ID {leg_id}\")\n",
    "\n",
    "ax3.bar(legislator_names, legislator_values)\n",
    "ax3.set_title(f\"Top Legislators for {CLIENT_NAME} by Bills Sponsored\")\n",
    "ax3.set_xlabel(\"Legislator Name\")\n",
    "ax3.set_ylabel(\"Number of Bills Sponsored\")\n",
    "plt.setp(ax3.xaxis.get_majorticklabels(), rotation=45, ha=\"right\")\n",
    "\n",
    "# 4. Top Bill Sponsors (Recent Bills)\n",
    "if recent_ms_bills:  # Only create this plot if we have data\n",
    "    ax4 = plt.subplot(gs[1, 1])\n",
    "    top_sponsors = dict(bill_sponsors.most_common(10))\n",
    "    sponsor_names = []\n",
    "    sponsor_values = []\n",
    "    for leg_id, value in top_sponsors.items():\n",
    "        name = get_legislator_name(leg_id)\n",
    "        if name:\n",
    "            sponsor_names.append(name)\n",
    "            sponsor_values.append(value)\n",
    "        else:\n",
    "            print(f\"Warning: No name found for legislator ID {leg_id}\")\n",
    "\n",
    "    if sponsor_names:  # Only plot if we have names\n",
    "        ax4.bar(sponsor_names, sponsor_values)\n",
    "        ax4.set_title(\"Top Microsoft-Connected Bill Sponsors (Since 2020)\")\n",
    "        ax4.set_xlabel(\"Legislator Name\")\n",
    "        ax4.set_ylabel(\"Number of Bills Sponsored\")\n",
    "        plt.setp(ax4.xaxis.get_majorticklabels(), rotation=45, ha=\"right\")\n",
    "\n",
    "# Add issues plot\n",
    "ax5 = plt.subplot(gs[2, :])  # Use entire bottom row\n",
    "top_issues = dict(issue_codes.most_common(10))\n",
    "ax5.bar(top_issues.keys(), top_issues.values())\n",
    "ax5.set_title(f\"Top 10 Issues in {CLIENT_NAME}'s Lobbying Reports\")\n",
    "ax5.set_xlabel(\"Issue Code\")\n",
    "ax5.set_ylabel(\"Number of Occurrences\")\n",
    "plt.setp(ax5.xaxis.get_majorticklabels(), rotation=45, ha=\"right\")\n",
    "\n",
    "plt.tight_layout()\n",
    "plt.savefig(\"microsoft_lobbying_analysis.png\")\n",
    "plt.close()\n",
    "\n",
    "print(\"\\nA comprehensive analysis of Microsoft's lobbying activities has been saved as 'microsoft_lobbying_analysis.png'\")"
   ]
  },
  {
   "cell_type": "markdown",
   "metadata": {},
   "source": [
    "## Strategic Insights\n",
    "\n",
    "Finally, we'll summarize key findings that could inform future lobbying strategy. These insights combine various aspects of our analysis to provide actionable intelligence for corporate decision-makers."
   ]
  },
  {
   "cell_type": "code",
   "execution_count": 21,
   "metadata": {},
   "outputs": [
    {
     "name": "stdout",
     "output_type": "stream",
     "text": [
      "\n",
      "Key Insights for Corporate Lobbying Strategy:\n",
      "1. Microsoft Corporation has been involved in 100 lobbying reports.\n",
      "2. The company has 100 network connections with legislators.\n",
      "3. The most active year for lobbying was 2019 with 50 reports.\n",
      "4. The most active quarter for lobbying is Q3 with 27 reports.\n",
      "5. The legislator most frequently connected to Microsoft Corporation's lobbying efforts is Kevin Brady, with 81 bills sponsored.\n",
      "6. Since 2020, 311 bills have been introduced by legislators connected to Microsoft Corporation's lobbying network.\n",
      "7. The company's most frequent lobbying issues are:\n",
      "   - TAX (45 occurrences): Tax extenders...\n",
      "   - TEC (42 occurrences): telecommuications reform; online advertising; white spaces; online competitiveness, privacy...\n",
      "   - IMM (41 occurrences): immigration issues...\n"
     ]
    }
   ],
   "source": [
    "# Corporate Strategy Insights\n",
    "print(\"\\nKey Insights for Corporate Lobbying Strategy:\")\n",
    "print(f\"1. {CLIENT_NAME} has been involved in {len(client_reports.data)} lobbying reports.\")\n",
    "print(f\"2. The company has {len(network_data.data)} network connections with legislators.\")\n",
    "most_active_year = report_years.most_common(1)[0][0]\n",
    "print(f\"3. The most active year for lobbying was {most_active_year} with {report_years[most_active_year]} reports.\")\n",
    "most_active_quarter = report_quarters.most_common(1)[0][0]\n",
    "print(f\"4. The most active quarter for lobbying is Q{most_active_quarter} with {report_quarters[most_active_quarter]} reports.\")\n",
    "if legislator_counter:\n",
    "    top_legislator_id = legislator_counter.most_common(1)[0][0]\n",
    "    top_legislator_name = get_legislator_name(top_legislator_id)\n",
    "    print(f\"5. The legislator most frequently connected to {CLIENT_NAME}'s lobbying efforts is {top_legislator_name}, with {legislator_counter[top_legislator_id]} bills sponsored.\")\n",
    "if recent_ms_bills:\n",
    "    print(f\"6. Since 2020, {len(recent_ms_bills)} bills have been introduced by legislators connected to {CLIENT_NAME}'s lobbying network.\")\n",
    "else:\n",
    "    print(f\"6. No recent bills found for legislators connected to {CLIENT_NAME}'s lobbying network.\")\n",
    "if issue_codes:\n",
    "    print(\"7. The company's most frequent lobbying issues are:\")\n",
    "    for code, count in issue_codes.most_common(3):\n",
    "        description = issue_text_cache.get(code, \"No description available\")\n",
    "        print(f\"   - {code} ({count} occurrences): {description[:100]}...\")\n",
    "else:\n",
    "    print(\"7. No lobbying issues found in the available data.\")"
   ]
  },
  {
   "cell_type": "code",
   "execution_count": null,
   "metadata": {},
   "outputs": [],
   "source": []
  }
 ],
 "metadata": {
  "kernelspec": {
   "display_name": ".venv",
   "language": "python",
   "name": "python3"
  },
  "language_info": {
   "codemirror_mode": {
    "name": "ipython",
    "version": 3
   },
   "file_extension": ".py",
   "mimetype": "text/x-python",
   "name": "python",
   "nbconvert_exporter": "python",
   "pygments_lexer": "ipython3",
   "version": "3.11.10"
  }
 },
 "nbformat": 4,
 "nbformat_minor": 2
}
